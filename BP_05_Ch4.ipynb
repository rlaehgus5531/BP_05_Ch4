{
  "nbformat": 4,
  "nbformat_minor": 0,
  "metadata": {
    "colab": {
      "provenance": [],
      "authorship_tag": "ABX9TyNO/+IVZ61OBLqp8nR4SCfs",
      "include_colab_link": true
    },
    "kernelspec": {
      "name": "python3",
      "display_name": "Python 3"
    },
    "language_info": {
      "name": "python"
    }
  },
  "cells": [
    {
      "cell_type": "markdown",
      "metadata": {
        "id": "view-in-github",
        "colab_type": "text"
      },
      "source": [
        "<a href=\"https://colab.research.google.com/github/rlaehgus5531/BP_05_Ch4/blob/main/BP_05_Ch4.ipynb\" target=\"_parent\"><img src=\"https://colab.research.google.com/assets/colab-badge.svg\" alt=\"Open In Colab\"/></a>"
      ]
    },
    {
      "cell_type": "markdown",
      "source": [
        "1.왜 다음과 같은 수식이 오류를 발섕시키는가?올바르게 수정하라\n",
        "'나는' + 12 + '개의 사과를 먹었다.'"
      ],
      "metadata": {
        "id": "u1c75R5gPOuj"
      }
    },
    {
      "cell_type": "code",
      "execution_count": 1,
      "metadata": {
        "colab": {
          "base_uri": "https://localhost:8080/"
        },
        "id": "NSFE4ycxKcBS",
        "outputId": "307672ef-2152-419e-c4ba-7e2b53e8ef06"
      },
      "outputs": [
        {
          "output_type": "stream",
          "name": "stdout",
          "text": [
            "나는12개의 사과를 먹었다\n"
          ]
        }
      ],
      "source": [
        "print('나는'+ str(12)+'개의 사과를 먹었다')"
      ]
    },
    {
      "cell_type": "markdown",
      "source": [
        "2.다음 과 같은 수식을 계산하면 결과는무엇인가?\n",
        "\n",
        "'apple' + 'grape'\n",
        "\n",
        "'appIe' * 3"
      ],
      "metadata": {
        "id": "vKNWZVJIPTrR"
      }
    },
    {
      "cell_type": "code",
      "source": [
        "print('apple'+'grape')\n",
        "print('apple'*3)"
      ],
      "metadata": {
        "colab": {
          "base_uri": "https://localhost:8080/"
        },
        "id": "SRrzzeKKPX0k",
        "outputId": "edef0a51-d601-4253-f365-1cae6b97805a"
      },
      "execution_count": 2,
      "outputs": [
        {
          "output_type": "stream",
          "name": "stdout",
          "text": [
            "applegrape\n",
            "appleappleapple\n"
          ]
        }
      ]
    },
    {
      "cell_type": "markdown",
      "source": [
        "3.다음과 같이 사용자가 입력한 문자열 중 에서 처음 2글자 와 마지막 2글자를 추출한 후에 이들을 합쳐서 출력해보자"
      ],
      "metadata": {
        "id": "2tRaRXHhPdEr"
      }
    },
    {
      "cell_type": "code",
      "source": [
        "str = input(\"문자열을 입력하시오:\")\n",
        "s = str[0:2] +str[-2:]\n",
        "print(s)"
      ],
      "metadata": {
        "colab": {
          "base_uri": "https://localhost:8080/"
        },
        "id": "LmlkfK9oPkm2",
        "outputId": "8fb6806b-eb0d-4fe0-c8bf-8467ad0f3116"
      },
      "execution_count": 3,
      "outputs": [
        {
          "output_type": "stream",
          "name": "stdout",
          "text": [
            "문자열을 입력하시오:python\n",
            "pyon\n"
          ]
        }
      ]
    },
    {
      "cell_type": "markdown",
      "source": [
        "4.다음과 같이 사용자가 입력한 문자열 뒤에 항상“하는중\"을 붙이는 프로그램을 작성해보자."
      ],
      "metadata": {
        "id": "P_cgHoTRPqZt"
      }
    },
    {
      "cell_type": "code",
      "source": [
        "s = input(\"문자열을 입력하시오:\")\n",
        "s += \"하는 중\"\n",
        "print(s)"
      ],
      "metadata": {
        "colab": {
          "base_uri": "https://localhost:8080/"
        },
        "id": "7cP4X5ShPt9u",
        "outputId": "8b59a9d2-c09a-479c-c13b-7ad3851c8724"
      },
      "execution_count": 7,
      "outputs": [
        {
          "output_type": "stream",
          "name": "stdout",
          "text": [
            "문자열을 입력하시오:청소\n",
            "청소하는 중\n"
          ]
        }
      ]
    },
    {
      "cell_type": "markdown",
      "source": [
        "5.사용자가 입력한 기호 안에 문자열을 삽입하려면 어떻게 해야하는가? 기호는 분자 2개로 이루어있다고 가정한다."
      ],
      "metadata": {
        "id": "qXk_CsHfP2sM"
      }
    },
    {
      "cell_type": "code",
      "source": [
        "str=input(\"기호를 입력하시오:\")\n",
        "word=input(\"중간에 삽입할 문자열을 입력하시오\")\n",
        "s = str[:1] + word + str[1:]\n",
        "print(s)"
      ],
      "metadata": {
        "colab": {
          "base_uri": "https://localhost:8080/"
        },
        "id": "PlOEF5rpP65_",
        "outputId": "f2093b8f-0267-4937-d2e6-ae194de0ac0f"
      },
      "execution_count": 8,
      "outputs": [
        {
          "output_type": "stream",
          "name": "stdout",
          "text": [
            "기호를 입력하시오:[]\n",
            "중간에 삽입할 문자열을 입력하시오python\n",
            "[python]\n"
          ]
        }
      ]
    },
    {
      "cell_type": "markdown",
      "source": [
        "6. 4개의 숫자가 들어 있는 리스트가 있다. 리스트 안의 숫자들을 꺼내서 합계를 계산하여 츨력하는 프로그램을 작성하라 반복문은 사용하지 않는다 리스트의 길이는 항상 4라고 가정한다."
      ],
      "metadata": {
        "id": "s_o6x0EGQB4-"
      }
    },
    {
      "cell_type": "code",
      "source": [
        "lista = [1, 2, 3, 4]\n",
        "sum = 0\n",
        "sum = lista[0] + lista[1] + lista[2]+ lista[3]\n",
        "print(\"리스트 =\", lista)\n",
        "print(\"리스트 숫자들의 합 = \", sum)"
      ],
      "metadata": {
        "colab": {
          "base_uri": "https://localhost:8080/"
        },
        "id": "FtQkBKOnQDgH",
        "outputId": "fa293e52-6b69-451b-a72b-3967fec9537c"
      },
      "execution_count": 9,
      "outputs": [
        {
          "output_type": "stream",
          "name": "stdout",
          "text": [
            "리스트 = [1, 2, 3, 4]\n",
            "리스트 숫자들의 합 =  10\n"
          ]
        }
      ]
    },
    {
      "cell_type": "markdown",
      "source": [
        "7.사용자가 입력하는 3가지 색상을 리스트에 저장하였다가 하나씩 꺼내서 그색상으로 채워진 원을 그리는 프로그램을 작성해보자 반복분은 사용하지 않는다 채워진 원을 그리려면 다음와 같은 문장들을 사용한다"
      ],
      "metadata": {
        "id": "8auTBzrsQIwa"
      }
    },
    {
      "cell_type": "code",
      "source": [
        "import turtle\n",
        "t = turtle.Turtle()\n",
        "t.shape(\"turtle\")\n",
        "lista = [ ]\n",
        "color = input(\"색상을 #1을입력하시오:\")\n",
        "lista.append(color)\n",
        "color = input(\"색상을 #2을입력하시오:\")\n",
        "lista.append(color)\n",
        "color = input(\"색상을 #3을입력하시오:\")\n",
        "lista.append(color)\n",
        "t.fillcolor(lista[0])\n",
        "t.begin_fill()\n",
        "t.circle(50)\n",
        "t.end_fill()\n",
        "t.up()\n",
        "t.goto(100,0)\n",
        "t.down()\n",
        "t.fillcolor(lista[1])\n",
        "t.begin_fill()\n",
        "t.circle(50)\n",
        "t.end_fill()\n",
        "t.up()\n",
        "t.goto(200,0)\n",
        "t.down()\n",
        "t.fillcolor(lista[2])\n",
        "t.begin_fill()\n",
        "t.circle(50)\n",
        "t.end_fill()\n",
        "t._screen.exitonclick()"
      ],
      "metadata": {
        "id": "YUBA48NcQMAN"
      },
      "execution_count": null,
      "outputs": []
    },
    {
      "cell_type": "markdown",
      "source": [
        "8.사용자가 입럭하는3개의 좌표(x,y)를 리스트에 저장한다 이들 좌표를꺼내서 거북이를 이동하는 프로그램을 작성해보자"
      ],
      "metadata": {
        "id": "m9LSRc3sQQuu"
      }
    },
    {
      "cell_type": "code",
      "source": [
        "import turtle\n",
        "t = turtle.Turtle()\n",
        "t.shape(\"turtle\")\n",
        "lista = [ ]\n",
        "lista.append(int(input(\"x1: \")))\n",
        "lista.append(int(input(\"y1: \")))\n",
        "lista.append(int(input(\"x2: \")))\n",
        "lista.append(int(input(\"y2: \")))\n",
        "lista.append(int(input(\"x3: \")))\n",
        "lista.append(int(input(\"y3: \")))\n",
        "t.goto(lista[0], lista[1])\n",
        "t.goto(lista[2], lista[3])\n",
        "t.goto(lista[4], lista[5])\n",
        "t._screen.exitonclick()"
      ],
      "metadata": {
        "id": "eXc2HQj9QTjB"
      },
      "execution_count": null,
      "outputs": []
    }
  ]
}